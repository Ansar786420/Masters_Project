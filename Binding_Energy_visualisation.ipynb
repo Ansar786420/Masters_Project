{
 "cells": [
  {
   "cell_type": "code",
   "execution_count": 1,
   "id": "bcbbd611",
   "metadata": {},
   "outputs": [],
   "source": [
    "import qcfractal.interface as ptl\n",
    "client = ptl.FractalClient(address=\"localhost:7777\", verify=False)"
   ]
  },
  {
   "cell_type": "code",
   "execution_count": 5,
   "id": "3d8a96a9",
   "metadata": {},
   "outputs": [],
   "source": [
    "import warnings \n",
    "warnings.filterwarnings('ignore')"
   ]
  },
  {
   "cell_type": "markdown",
   "id": "9d231140",
   "metadata": {},
   "source": [
    "Load your molecule and saurface collections:"
   ]
  },
  {
   "cell_type": "markdown",
   "id": "13fec618",
   "metadata": {},
   "source": [
    "eg "
   ]
  },
  {
   "cell_type": "code",
   "execution_count": 2,
   "id": "820835d4",
   "metadata": {},
   "outputs": [],
   "source": [
    "ds_sm  = client.get_collection(\"OptimizationDataset\", \"small_molecules\")\n",
    "ds_w12 = client.get_collection('OptimizationDataset', 'water_12' )"
   ]
  },
  {
   "cell_type": "markdown",
   "id": "af4fb8fe",
   "metadata": {},
   "source": [
    "now we want to access the reaction dataset"
   ]
  },
  {
   "cell_type": "markdown",
   "id": "a7d210f2",
   "metadata": {},
   "source": [
    "the name of the file will be in the output"
   ]
  },
  {
   "cell_type": "code",
   "execution_count": 3,
   "id": "3949f796",
   "metadata": {},
   "outputs": [],
   "source": [
    "ds_be = client.get_collection(\"ReactionDataset\", 'be_h2o_m6_01_mpwb1k-d3bj')"
   ]
  },
  {
   "cell_type": "markdown",
   "id": "ab1fd90e",
   "metadata": {},
   "source": [
    "choose one of the levels of theory you calculated the BE at:"
   ]
  },
  {
   "cell_type": "markdown",
   "id": "b15c2248",
   "metadata": {},
   "source": [
    "eg:"
   ]
  },
  {
   "cell_type": "code",
   "execution_count": 6,
   "id": "98e5cb7f",
   "metadata": {
    "scrolled": true
   },
   "outputs": [
    {
     "data": {
      "text/html": [
       "<div>\n",
       "<style scoped>\n",
       "    .dataframe tbody tr th:only-of-type {\n",
       "        vertical-align: middle;\n",
       "    }\n",
       "\n",
       "    .dataframe tbody tr th {\n",
       "        vertical-align: top;\n",
       "    }\n",
       "\n",
       "    .dataframe thead th {\n",
       "        text-align: right;\n",
       "    }\n",
       "</style>\n",
       "<table border=\"1\" class=\"dataframe\">\n",
       "  <thead>\n",
       "    <tr style=\"text-align: right;\">\n",
       "      <th></th>\n",
       "      <th>MPWB1K-D3BJ/def2-tzvp</th>\n",
       "    </tr>\n",
       "  </thead>\n",
       "  <tbody>\n",
       "    <tr>\n",
       "      <th>h2o_m6_01_0005</th>\n",
       "      <td>-9.484923</td>\n",
       "    </tr>\n",
       "    <tr>\n",
       "      <th>h2o_m6_01_0006</th>\n",
       "      <td>-5.809066</td>\n",
       "    </tr>\n",
       "    <tr>\n",
       "      <th>h2o_m6_01_0012</th>\n",
       "      <td>-5.81349</td>\n",
       "    </tr>\n",
       "  </tbody>\n",
       "</table>\n",
       "</div>"
      ],
      "text/plain": [
       "               MPWB1K-D3BJ/def2-tzvp\n",
       "h2o_m6_01_0005             -9.484923\n",
       "h2o_m6_01_0006             -5.809066\n",
       "h2o_m6_01_0012              -5.81349"
      ]
     },
     "execution_count": 6,
     "metadata": {},
     "output_type": "execute_result"
    }
   ],
   "source": [
    "ds_be.get_values(stoich='default',method=\"MPWB1K-D3BJ\")"
   ]
  },
  {
   "cell_type": "markdown",
   "id": "eb995627",
   "metadata": {},
   "source": [
    "now you have the energies of cluster m6 in this case. you can check all of them just change the cluster no"
   ]
  },
  {
   "cell_type": "markdown",
   "id": "d2de53cf",
   "metadata": {},
   "source": [
    "now to vusaulise the structure:"
   ]
  },
  {
   "cell_type": "code",
   "execution_count": 7,
   "id": "aff804ba",
   "metadata": {},
   "outputs": [],
   "source": [
    "ds_h2o = client.get_collection(\"OptimizationDataset\", \"h2o_m6_01\")"
   ]
  },
  {
   "cell_type": "code",
   "execution_count": 8,
   "id": "4a7299a1",
   "metadata": {},
   "outputs": [
    {
     "data": {
      "application/vnd.jupyter.widget-view+json": {
       "model_id": "56d5dc69c4664fad9180dd9d08e33ad7",
       "version_major": 2,
       "version_minor": 0
      },
      "text/plain": []
     },
     "metadata": {},
     "output_type": "display_data"
    },
    {
     "data": {
      "application/vnd.jupyter.widget-view+json": {
       "model_id": "5702de4676ea496589d0c0e2e66baec3",
       "version_major": 2,
       "version_minor": 0
      },
      "text/plain": [
       "NGLWidget()"
      ]
     },
     "metadata": {},
     "output_type": "display_data"
    }
   ],
   "source": [
    "rr = ds_h2o.get_record('h2o_m6_01_0005', 'mpwb1k-d3bj_def2-tzvp')\n",
    "mol = rr.get_final_molecule()\n",
    "mol"
   ]
  },
  {
   "cell_type": "markdown",
   "id": "94425529",
   "metadata": {},
   "source": [
    "for the final molecule geometry you can get the xyz coordinates:"
   ]
  },
  {
   "cell_type": "code",
   "execution_count": 9,
   "id": "3261d2f7",
   "metadata": {
    "scrolled": true
   },
   "outputs": [
    {
     "name": "stdout",
     "output_type": "stream",
     "text": [
      "    Geometry (in Angstrom), charge = 0.0, multiplicity = 1:\n",
      "\n",
      "       Center              X                  Y                   Z       \n",
      "    ------------   -----------------  -----------------  -----------------\n",
      "    C                -0.461384047464     1.136322593310    -2.125300730629\n",
      "    O                -0.839844477672     1.082133236917    -0.773133354554\n",
      "    H                -0.054475757067     0.958488080207    -0.215990977354\n",
      "    H                -1.344292375434     1.372956805447    -2.705861265243\n",
      "    H                -0.069079127475     0.182585501000    -2.464155172299\n",
      "    H                 0.281654585381     1.910824970395    -2.291392487196\n",
      "    H                -1.895147451269    -0.275806187139    -0.248005100936\n",
      "    O                -2.406280154731    -0.953177604337     0.216351557409\n",
      "    C                -2.151508972955    -0.811400111540     1.587423388730\n",
      "    H                -2.568904160433    -1.670524181184     2.098343065096\n",
      "    H                -2.612033886972     0.090005771386     1.982496583310\n",
      "    H                -1.083407238281    -0.772916773616     1.785001500378\n",
      "    O                -1.580527430151     2.728207442445     1.379659212964\n",
      "    C                -2.067834969949     4.036120322463     1.299662265604\n",
      "    H                -1.563103194733     2.330489367910     0.504090148113\n",
      "    H                -2.047030797376     4.456988036733     2.297114661193\n",
      "    H                -3.094669483051     4.061380457163     0.941774167589\n",
      "    H                -1.456520360079     4.661037854340     0.651792972451\n",
      "    H                 0.944636108200     0.124073470004     2.728805191389\n",
      "    C                 1.612139394468     0.774134111695     2.166328355776\n",
      "    O                 0.923117112748     1.544024952016     1.225511404099\n",
      "    H                 2.312391596911     0.152758927112     1.625189112366\n",
      "    H                 2.161594713745     1.398868214145     2.867327730470\n",
      "    H                 0.226944750535     2.059083802273     1.641139185526\n",
      "    H                 0.145060757709    -3.976625982311    -3.911209780482\n",
      "    C                 0.633519453939    -3.537756107006    -3.043842923696\n",
      "    O                -0.090083729649    -2.454278042081    -2.538222679108\n",
      "    H                 1.607531739240    -3.176296402616    -3.350605543751\n",
      "    H                 0.775827882962    -4.316220829612    -2.296669589090\n",
      "    H                -0.944624822414    -2.767551235250    -2.204166248462\n",
      "    H                 1.567373366593    -3.307656312665     0.345723834051\n",
      "    C                 0.854762104637    -2.545418075053     0.660036566003\n",
      "    O                 0.909307599600    -1.410167067532    -0.147791554975\n",
      "    H                 1.107937988111    -2.251204511053     1.672788376478\n",
      "    H                -0.138811298518    -2.991912491282     0.674286769847\n",
      "    H                 0.624938120322    -1.672674819162    -1.031340965920\n",
      "    O                -2.367346318629    -3.199072838483    -1.253453105718\n",
      "    H                -3.231754635018    -3.323851945685    -1.629537852297\n",
      "    H                -2.434793545075    -2.431804286894    -0.656060080271\n",
      "\n"
     ]
    }
   ],
   "source": [
    "print(mol.pretty_print())"
   ]
  },
  {
   "cell_type": "markdown",
   "id": "641184c1",
   "metadata": {},
   "source": [
    "this is how to look at the geometries for each cluster. "
   ]
  },
  {
   "cell_type": "markdown",
   "id": "720670bd",
   "metadata": {},
   "source": [
    "it's useful if you're looking for a particular binding mode"
   ]
  },
  {
   "cell_type": "markdown",
   "id": "a7156486",
   "metadata": {},
   "source": [
    "this is useful for checking for calculations as they run, the extract script is saparate"
   ]
  },
  {
   "cell_type": "markdown",
   "id": "50194cbb",
   "metadata": {},
   "source": [
    "and we will run that in the command line"
   ]
  },
  {
   "cell_type": "code",
   "execution_count": null,
   "id": "9a3cf6c5",
   "metadata": {},
   "outputs": [],
   "source": []
  }
 ],
 "metadata": {
  "kernelspec": {
   "display_name": "Python 3 (ipykernel)",
   "language": "python",
   "name": "python3"
  },
  "language_info": {
   "codemirror_mode": {
    "name": "ipython",
    "version": 3
   },
   "file_extension": ".py",
   "mimetype": "text/x-python",
   "name": "python",
   "nbconvert_exporter": "python",
   "pygments_lexer": "ipython3",
   "version": "3.9.18"
  }
 },
 "nbformat": 4,
 "nbformat_minor": 5
}
