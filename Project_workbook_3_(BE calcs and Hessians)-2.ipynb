{
 "cells": [
  {
   "cell_type": "code",
   "execution_count": 1,
   "id": "99498214",
   "metadata": {},
   "outputs": [],
   "source": [
    "import qcfractal.interface as ptl\n",
    "client = ptl.FractalClient(address=\"localhost:7777\", verify=False)\n"
   ]
  },
  {
   "cell_type": "code",
   "execution_count": 2,
   "id": "4d9487d6",
   "metadata": {},
   "outputs": [],
   "source": [
    "import matplotlib.pyplot as plt\n",
    "import numpy as np\n",
    "import pandas as pd"
   ]
  },
  {
   "cell_type": "code",
   "execution_count": 3,
   "id": "63b1b2d3",
   "metadata": {},
   "outputs": [],
   "source": [
    "%run /home/fastdata/Shared/Masters_Project/My_Classes.ipynb\n"
   ]
  },
  {
   "cell_type": "code",
   "execution_count": 4,
   "id": "c8ae0f82",
   "metadata": {},
   "outputs": [],
   "source": [
    "ds_mols = client.get_collection(\"OptimizationDataset\", \"project_molecules\")"
   ]
  },
  {
   "cell_type": "code",
   "execution_count": null,
   "id": "38cf61d8",
   "metadata": {},
   "outputs": [],
   "source": [
    "ds_bes= client.list_collections(\"ReactionDataset\", \"\")\n",
    "ds_bes"
   ]
  },
  {
   "cell_type": "markdown",
   "id": "194e04ef",
   "metadata": {},
   "source": [
    "## Get BE values for H2O on CD"
   ]
  },
  {
   "cell_type": "code",
   "execution_count": null,
   "metadata": {},
   "outputs": [],
   "source": [
    "#1.00000 kcal/mol = 503.22272K\n",
    "H2O_binding = ['be_H2O_CD1_01_MPWB1K-D3BJ','be_H2O_CD2_01_MPWB1K-D3BJ','be_H2O_CD3_01_MPWB1K-D3BJ','be_H2O_CD3_02_MPWB1K-D3BJ']\n",
    "\n",
    "list_of_BE_values_H2O=[]\n",
    "for i in H2O_binding:\n",
    "    ds_be= client.get_collection('ReactionDataset', i)\n",
    "    BE=ds_be.get_values(stoich='default',method = 'MPWB1K-D3BJ').values\n",
    "    list_of_BE_values_H2O=np.append(list_of_BE_values_H2O,BE*503.22272)\n",
    "\n",
    "\n",
    "\n",
    "list_of_BE_values_H2O\n",
    "\n",
    "\n",
    "#labels = [f\"Point {i}\" for i in range(len(-list_of_BE_values_H2O))]  # Example labels\n",
    "\n",
    "# Seaborn boxplot\n",
    "sns.boxplot(data=-list_of_BE_values_H2O, color=\"lightblue\")\n",
    "for i, point in enumerate(-list_of_BE_values_H2O):\n",
    "    plt.scatter(0, point, color='red')  # 0 is the x-position for Seaborn boxplot\n",
    "    plt.text(0.1, point, s='', fontsize=9, verticalalignment='center')\n",
    "\n",
    "plt.title(\"$E_{b}$ distribution for $H_{2}O$ on $CO_{2}$\")\n",
    "plt.ylabel(\"$E_{b}$\")\n",
    "plt.xlabel(\"$H_{2}O$\")\n",
    "plt.show()\n",
    "\n",
    "\n",
    "\n",
    "\n",
    "\n",
    "\n"
   ]
  },
  {
   "cell_type": "markdown",
   "id": "34fe339d",
   "metadata": {},
   "source": [
    "## Get BE values for CH4"
   ]
  },
  {
   "cell_type": "code",
   "execution_count": null,
   "id": "9ceed652",
   "metadata": {},
   "outputs": [],
   "source": [
    "#1.00000 kcal/mol = 503.22272K\n",
    "CH4_binding = ['be_CH4_CD1_01_MPWB1K-D3BJ','be_CH4_CD2_01_MPWB1K-D3BJ','be_CH4_CD3_01_MPWB1K-D3BJ','be_CH4_CD3_02_MPWB1K-D3BJ']\n",
    "\n",
    "list_of_BE_values_CH4=[]\n",
    "for i in CH4_binding:\n",
    "    ds_be= client.get_collection('ReactionDataset', i)\n",
    "    BE=ds_be.get_values(stoich='default',method = 'MPWB1K-D3BJ').values\n",
    "    list_of_BE_values_CH4=np.append(list_of_BE_values_CH4,BE*503.22272)\n",
    "\n",
    "\n",
    "#list_of_BE_values=np.array(list_of_BE_values)\n",
    "\n",
    "list_of_BE_values_CH4\n",
    "\n",
    "\n",
    "#labels = [f\"Point {i}\" for i in range(len(-list_of_BE_values_H2O))]  # Example labels\n",
    "\n",
    "# Seaborn boxplot\n",
    "sns.boxplot(data=-list_of_BE_values_CH4, color=\"lightblue\")\n",
    "for i, point in enumerate(-list_of_BE_values_CH4):\n",
    "    plt.scatter(0, point, color='red')  # 0 is the x-position for Seaborn boxplot\n",
    "    plt.text(0.1, point, s='', fontsize=9, verticalalignment='center')\n",
    "\n",
    "plt.title(\"$E_{b}$ distribution for $CH_{4}$ on $CO_{2}$\")\n",
    "plt.ylabel(\"$E_{b}$\")\n",
    "plt.xlabel(\"$CH_{4}$\")\n",
    "plt.show()"
   ]
  },
  {
   "cell_type": "markdown",
   "id": "2dcbab36",
   "metadata": {},
   "source": [
    "## Get BE values for C2H2"
   ]
  },
  {
   "cell_type": "code",
   "execution_count": null,
   "id": "95cd3297",
   "metadata": {},
   "outputs": [],
   "source": [
    "#1.00000 kcal/mol = 503.22272K\n",
    "C2H2_binding = ['be_C2H2_CD1_01_MPWB1K-D3BJ','be_C2H2_CD2_01_MPWB1K-D3BJ','be_C2H2_CD3_01_MPWB1K-D3BJ','be_C2H2_CD3_02_MPWB1K-D3BJ']\n",
    "\n",
    "list_of_BE_values_C2H2=[]\n",
    "for i in C2H2_binding:\n",
    "    ds_be= client.get_collection('ReactionDataset', i)\n",
    "    BE=ds_be.get_values(stoich='default',method = 'MPWB1K-D3BJ').values\n",
    "    list_of_BE_values_C2H2=np.append(list_of_BE_values_C2H2,BE*503.22272)\n",
    "\n",
    "\n",
    "#list_of_BE_values=np.array(list_of_BE_values)\n",
    "\n",
    "list_of_BE_values_C2H2\n",
    "\n",
    "\n",
    "\n",
    "#labels = [f\"Point {i}\" for i in range(len(-list_of_BE_values_H2O))]  # Example labels\n",
    "\n",
    "# Seaborn boxplot\n",
    "sns.boxplot(data=-list_of_BE_values_C2H2, color=\"lightblue\")\n",
    "for i, point in enumerate(-list_of_BE_values_C2H2):\n",
    "    plt.scatter(0, point, color='red')  # 0 is the x-position for Seaborn boxplot\n",
    "    plt.text(0.1, point, s='', fontsize=9, verticalalignment='center')\n",
    "\n",
    "plt.title(\"$E_{b}$ distribution for $C_{2H_{2}$ on $CO_{2}$\")\n",
    "plt.ylabel(\"$E_{b}$\")\n",
    "plt.xlabel(\"$C_{2}H_{2}$\")\n",
    "plt.show()"
   ]
  },
  {
   "cell_type": "markdown",
   "id": "24641717",
   "metadata": {},
   "source": [
    "## BE values for CO"
   ]
  },
  {
   "cell_type": "code",
   "execution_count": null,
   "id": "86188e5b",
   "metadata": {},
   "outputs": [],
   "source": [
    "#1.00000 kcal/mol = 503.22272K\n",
    "CO_binding = ['be_CO_CD1_01_MPWB1K-D3BJ','be_CO_CD2_01_MPWB1K-D3BJ','be_CO_CD3_01_MPWB1K-D3BJ','be_CO_CD3_02_MPWB1K-D3BJ']\n",
    "\n",
    "list_of_BE_values_CO=[]\n",
    "for i in CO_binding:\n",
    "    ds_be= client.get_collection('ReactionDataset', i)\n",
    "    BE=ds_be.get_values(stoich='default',method = 'MPWB1K-D3BJ').values\n",
    "    list_of_BE_values_CO=np.append(list_of_BE_values_CO,BE*503.22272)\n",
    "\n",
    "\n",
    "#list_of_BE_values=np.array(list_of_BE_values)\n",
    "\n",
    "list_of_BE_values_CO\n",
    "\n",
    "\n",
    "\n",
    "# Seaborn boxplot\n",
    "sns.boxplot(data=-list_of_BE_values_CO, color=\"lightblue\")\n",
    "for i, point in enumerate(-list_of_BE_values_CO):\n",
    "    plt.scatter(0, point, color='red')  # 0 is the x-position for Seaborn boxplot\n",
    "    plt.text(0.1, point, s='', fontsize=9, verticalalignment='center')\n",
    "\n",
    "plt.title(\"$E_{b}$ distribution for $CO$ on $CO_{2}$\")\n",
    "plt.ylabel(\"$E_{b}$\")\n",
    "plt.xlabel(\"$CO$\")\n",
    "plt.show()\n",
    "\n",
    "\n"
   ]
  },
  {
   "cell_type": "markdown",
   "id": "7b2523c2",
   "metadata": {},
   "source": [
    "## Get BE values for H2CO"
   ]
  },
  {
   "cell_type": "code",
   "execution_count": null,
   "id": "c8fe0ad1",
   "metadata": {},
   "outputs": [],
   "source": [
    "#1.00000 kcal/mol = 503.22272K\n",
    "H2CO_binding = ['be_H2CO_CD1_01_MPWB1K-D3BJ','be_H2CO_CD2_01_MPWB1K-D3BJ','be_H2CO_CD3_01_MPWB1K-D3BJ','be_H2CO_CD3_02_MPWB1K-D3BJ']\n",
    "\n",
    "list_of_BE_values_H2CO=[]\n",
    "for i in H2CO_binding:\n",
    "    ds_be= client.get_collection('ReactionDataset', i)\n",
    "    BE=ds_be.get_values(stoich='default',method = 'MPWB1K-D3BJ').values\n",
    "    list_of_BE_values_H2CO=np.append(list_of_BE_values_H2CO,BE*503.22272)\n",
    "\n",
    "\n",
    "#list_of_BE_values=np.array(list_of_BE_values)\n",
    "\n",
    "list_of_BE_values_H2CO\n",
    "\n",
    "# Seaborn boxplot\n",
    "sns.boxplot(data=-list_of_BE_values_H2CO, color=\"lightblue\")\n",
    "for i, point in enumerate(-list_of_BE_values_H2CO):\n",
    "    plt.scatter(0, point,color='red')  # 0 is the x-position for Seaborn boxplot\n",
    "    plt.text(0.1, point, s='', fontsize=9, verticalalignment='center')\n",
    "\n",
    "plt.title(\"$E_{b}$ distribution for $H_{2}CO$ on $CO_{2}$\")\n",
    "plt.ylabel(\"$E_{b}$\")\n",
    "plt.xlabel(\"$H_{2}CO$\")\n",
    "plt.show()"
   ]
  }
 ],
 "metadata": {
  "kernelspec": {
   "display_name": "Python 3 (ipykernel)",
   "language": "python",
   "name": "python3"
  },
  "language_info": {
   "codemirror_mode": {
    "name": "ipython",
    "version": 3
   },
   "file_extension": ".py",
   "mimetype": "text/x-python",
   "name": "python",
   "nbconvert_exporter": "python",
   "pygments_lexer": "ipython3",
   "version": "3.9.18"
  }
 },
 "nbformat": 4,
 "nbformat_minor": 5
}
