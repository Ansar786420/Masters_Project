{
 "cells": [
  {
   "cell_type": "markdown",
   "id": "a0bea50b",
   "metadata": {},
   "source": [
    "## Class which replicates the molecular optimisation workflow "
   ]
  },
  {
   "cell_type": "code",
   "execution_count": 4,
   "id": "7af260a0",
   "metadata": {},
   "outputs": [],
   "source": [
    "class workflow():\n",
    "    \n",
    "    def __init__(self,dataset,molecule,name):\n",
    "        self.dataset = client.get_collection('OptimizationDataset','project_molecules')\n",
    "        self.molecule=molecule\n",
    "        self.xyz_file = f'/home/fastdata/Shared/Masters_Project/Molecules/{molecule}.xyz' # as in the command line\n",
    "        self.name = name\n",
    "        \n",
    "    def create_molecule(self):\n",
    "        with open(self.xyz_file,'r') as file:\n",
    "            lines=file.readlines()[2:]\n",
    "            lines=[' '.join(line.split()) for line in lines] # clean each line by stripping extra speaces and newlines and join them with a single space   \n",
    "            lines = ''+ '\\n'.join(lines)+''\n",
    "            lines=str(lines)\n",
    "        mol = ptl.Molecule.from_data(lines)\n",
    "        return mol\n",
    "        \n",
    "    def add_specification(self):\n",
    "        self.specification={'name':self.name, \n",
    "        'description':f'Geometric +Psi4/{self.name.split(\"_\")[0]}/{self.name.split(\"_\")[1]}.',\n",
    "        'optimization_spec':{'program':'geometric','keywords':None},\n",
    "        'qc_spec':{'driver':'gradient',\n",
    "        'method':self.name.split('_')[0],\n",
    "        'basis':self.name.split('_')[1],\n",
    "        'keywords':None,\n",
    "        'program': 'psi4'}}\n",
    "            \n",
    "        return self.specification\n",
    "        \n",
    "        \n",
    "    def setup_molecule(self):\n",
    "        #deleting the molecule if it exists\n",
    "        if self.molecule.lower() in self.dataset.data.records:\n",
    "            del self.dataset.data.records[f\"{self.molecule.lower()}\"]\n",
    "            self.dataset.save()\n",
    "            \n",
    "        self.dataset.add_entry(f\"{self.molecule}\",\n",
    "                                workflow(self.dataset,self.molecule,self.name).create_molecule())\n",
    "            \n",
    "        self.dataset.save()\n",
    "        #adding the specification if not exists\n",
    "        if workflow(self.dataset,self.molecule,self.name).add_specification()['name'].lower() not in self.dataset.data.specs:\n",
    "            self.dataset.add_specification(**workflow(self.dataset,self.molecule,self.name).add_specification(),overwrite=True)\n",
    "            self.dataset.save()\n",
    "        status=self.dataset.status(collapse=False)\n",
    "        return status\n",
    "            \n",
    "    def compute_molecule(self,tag):\n",
    "        \n",
    "        self.dataset.compute(workflow(self.dataset,self.molecule,self.name).add_specification()['name'],tag=tag,\n",
    "                            subset={f\"{self.molecule}\"})\n",
    "        self.dataset=client.get_collection('OptimizationDataset','project_molecules')\n",
    "        status=self.dataset.status(collapse=False)\n",
    "            \n",
    "        return status\n",
    "        \n",
    "    def check_status_only(self):\n",
    "        return self.dataset.status(collapse=False)\n",
    "            \n",
    "    def get_results(self):\n",
    "        mol_results= self.dataset.get_record(f'{self.molecule}',workflow(self.dataset,self.molecule,self.name).add_specification()['name'])\n",
    "        mol_results_dict = mol_results.dict()\n",
    "        return mol_results_dict,mol_results\n",
    "    \n",
    "    def restart_job(self,new_tag):\n",
    "        #new_tag = \"m_project\"\n",
    "\n",
    "    #for spec in ds_mols.df.columns:\n",
    "     #   for entry in ds_mols.df.index:\n",
    "        rr = self.dataset.get_record(self.molecule,workflow(self.dataset,self.molecule,self.name).add_specification()['name'])\n",
    "        ct =  client.modify_tasks(\"modify\", new_tag=new_tag, base_result=rr.id)\n",
    "        cr =  client.modify_tasks(\"restart\", base_result=rr.id)\n",
    "        return self.molecule,\n",
    "        workflow(self.dataset,self.molecule,self.name).add_specification()['name']\n",
    "        ,ct,cr\n",
    "            "
   ]
  },
  {
   "cell_type": "markdown",
   "id": "d7833366",
   "metadata": {},
   "source": [
    "## Code which gets all of the function methods for a collection (Note: collection name needs to be called first)"
   ]
  },
  {
   "cell_type": "code",
   "execution_count": 1,
   "id": "a13ec223",
   "metadata": {},
   "outputs": [
    {
     "ename": "NameError",
     "evalue": "name 'ds_be' is not defined",
     "output_type": "error",
     "traceback": [
      "\u001b[0;31m---------------------------------------------------------------------------\u001b[0m",
      "\u001b[0;31mNameError\u001b[0m                                 Traceback (most recent call last)",
      "Cell \u001b[0;32mIn[1], line 4\u001b[0m\n\u001b[1;32m      1\u001b[0m \u001b[38;5;28;01mimport\u001b[39;00m \u001b[38;5;21;01minspect\u001b[39;00m\n\u001b[1;32m      3\u001b[0m methods_and_docstrings \u001b[38;5;241m=\u001b[39m {\n\u001b[0;32m----> 4\u001b[0m     name: obj\u001b[38;5;241m.\u001b[39m\u001b[38;5;18m__doc__\u001b[39m \u001b[38;5;28;01mfor\u001b[39;00m name, obj \u001b[38;5;129;01min\u001b[39;00m inspect\u001b[38;5;241m.\u001b[39mgetmembers(\u001b[43mds_be\u001b[49m) \n\u001b[1;32m      5\u001b[0m     \u001b[38;5;28;01mif\u001b[39;00m \u001b[38;5;28mcallable\u001b[39m(obj) \u001b[38;5;129;01mand\u001b[39;00m \u001b[38;5;129;01mnot\u001b[39;00m name\u001b[38;5;241m.\u001b[39mstartswith(\u001b[38;5;124m\"\u001b[39m\u001b[38;5;124m__\u001b[39m\u001b[38;5;124m\"\u001b[39m)\n\u001b[1;32m      6\u001b[0m }\n\u001b[1;32m      8\u001b[0m \u001b[38;5;28;01mfor\u001b[39;00m method, doc \u001b[38;5;129;01min\u001b[39;00m methods_and_docstrings\u001b[38;5;241m.\u001b[39mitems():\n\u001b[1;32m      9\u001b[0m     \u001b[38;5;28mprint\u001b[39m(\u001b[38;5;124mf\u001b[39m\u001b[38;5;124m\"\u001b[39m\u001b[38;5;124mMethod: \u001b[39m\u001b[38;5;132;01m{\u001b[39;00mmethod\u001b[38;5;132;01m}\u001b[39;00m\u001b[38;5;124m\"\u001b[39m)\n",
      "\u001b[0;31mNameError\u001b[0m: name 'ds_be' is not defined"
     ]
    }
   ],
   "source": [
    "import inspect\n",
    "\n",
    "methods_and_docstrings = {\n",
    "    name: obj.__doc__ for name, obj in inspect.getmembers(ds_be) \n",
    "    if callable(obj) and not name.startswith(\"__\")\n",
    "}\n",
    "\n",
    "for method, doc in methods_and_docstrings.items():\n",
    "    print(f\"Method: {method}\")\n",
    "    print(f\"Description: {doc}\")\n",
    "    print(\"-\" * 40)"
   ]
  },
  {
   "cell_type": "markdown",
   "id": "6c569354",
   "metadata": {},
   "source": [
    "## Nifty Code to get the molecular coordinates (x,y,z for each atom) in a list format from pretty_print"
   ]
  },
  {
   "cell_type": "code",
   "execution_count": null,
   "id": "b713d3c5",
   "metadata": {},
   "outputs": [],
   "source": [
    "a=(r.get_final_molecule().pretty_print()).split('\\n') # Split by new line\n",
    "    data = [s.split() for s in a # splits by whitespace for each line and obtains the numberical values in each line\n",
    "         if  s.strip() and not s.startswith(('Geometry', 'Center', '-'))][3:]\n",
    "    cleaned_data=[[d[0]]+ list(map(float,d[1:]))for d in data]"
   ]
  }
 ],
 "metadata": {
  "kernelspec": {
   "display_name": "Python 3 (ipykernel)",
   "language": "python",
   "name": "python3"
  },
  "language_info": {
   "codemirror_mode": {
    "name": "ipython",
    "version": 3
   },
   "file_extension": ".py",
   "mimetype": "text/x-python",
   "name": "python",
   "nbconvert_exporter": "python",
   "pygments_lexer": "ipython3",
   "version": "3.9.18"
  }
 },
 "nbformat": 4,
 "nbformat_minor": 5
}
